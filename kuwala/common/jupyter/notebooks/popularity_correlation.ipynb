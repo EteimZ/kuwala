{
 "cells": [
  {
   "cell_type": "markdown",
   "metadata": {
    "pycharm": {
     "name": "#%% md\n"
    }
   },
   "source": [
    "# POI Category by Population\n",
    "\n",
    "With this notebook you can correlate any value associated with a geo-reference with the Google popularity score. You\n",
    "can upload your own file as a CSV. The only thing that is necessary to make it work is to have columns for latitude and\n",
    "longitude and column headers.\n",
    "\n",
    "The value columns can be specific to your use case, e.g., scooter bookings, sales in shops or crimes. The popularity\n",
    "score is aggregated on a week. So ideally, the value columns that you want to correlate are aggregated on a weekly\n",
    "timeframe as well.\n",
    "\n",
    "As an example we are using an open data set from Uber that gives us the traversals of rides through specific hexagons.\n",
    "You can find the raw data on [their open data platform]('https://movement.uber.com/?lang=en-US). We preprocessed the raw\n",
    "data so that the traversals are already aggregated per week.\n",
    "\n",
    "## 1. Set Parameters\n",
    "\n",
    "1. Set the file path to your CSV and the delimiter. Simply place your file under `kuwala/resources` from within the\n",
    "Jupyter environment or under `kuwala/common/jupyter/resources` from the repository root on your local file system."
   ]
  },
  {
   "cell_type": "code",
   "execution_count": 1,
   "metadata": {
    "collapsed": false,
    "jupyter": {
     "outputs_hidden": false
    },
    "pycharm": {
     "name": "#%%\n"
    }
   },
   "outputs": [],
   "source": [
    "file_path = '../resources/lisbon_uber_traversals.csv'\n",
    "delimiter = ';'"
   ]
  },
  {
   "cell_type": "markdown",
   "metadata": {
    "pycharm": {
     "name": "#%% md\n"
    }
   },
   "source": [
    "2. Set the H3 resolution to aggregate the results on.\n",
    "\n",
    "    To see the average size of a hexagon at a given resolution go to the\n",
    "    [official H3 documentation](https://h3geo.org/docs/core-library/restable). The currently set resolution 8 has on\n",
    "    average an edge length of 0.46 km which can be freely interpreted as a radius."
   ]
  },
  {
   "cell_type": "code",
   "execution_count": 2,
   "metadata": {
    "collapsed": false,
    "jupyter": {
     "outputs_hidden": false
    },
    "pycharm": {
     "name": "#%%\n"
    }
   },
   "outputs": [],
   "source": [
    "resolution = 8"
   ]
  },
  {
   "cell_type": "markdown",
   "metadata": {
    "pycharm": {
     "name": "#%% md\n"
    }
   },
   "source": [
    "3. Set the column names for the coordinates and the columns of the file you want to correlate."
   ]
  },
  {
   "cell_type": "code",
   "execution_count": 3,
   "metadata": {
    "collapsed": false,
    "jupyter": {
     "outputs_hidden": false
    },
    "pycharm": {
     "name": "#%%\n"
    }
   },
   "outputs": [],
   "source": [
    "lat_column = 'latitude'\n",
    "lng_column = 'longitude'\n",
    "value_columns = ['weekly_traversals']"
   ]
  },
  {
   "cell_type": "markdown",
   "metadata": {
    "pycharm": {
     "name": "#%% md\n"
    }
   },
   "source": [
    "4. You can provide polygon coordinates as a GeoJSON-conform array to select a subregion. Otherwise, data form the entire\n",
    "database will be analyzed. (The default coordinates are a rough representation of Lisbon, Portugal.)"
   ]
  },
  {
   "cell_type": "code",
   "execution_count": 4,
   "metadata": {
    "collapsed": false,
    "jupyter": {
     "outputs_hidden": false
    },
    "pycharm": {
     "name": "#%%\n"
    }
   },
   "outputs": [],
   "source": [
    "polygon_coords = '[[[-9.092559814453125,38.794500078219826],[-9.164314270019531,38.793429729760994],[-9.217529296875,38.76666579487878],[-9.216842651367188,38.68792166352608],[-9.12139892578125,38.70399894245585],[-9.0911865234375,38.74551518488265],[-9.092559814453125,38.794500078219826]]]'\n"
   ]
  },
  {
   "cell_type": "markdown",
   "metadata": {},
   "source": [
    "## 2. Load dataframes\n",
    "\n",
    "#### Create a Spark session that is used to load your file and connect to the Neo4j instance ."
   ]
  },
  {
   "cell_type": "code",
   "execution_count": 5,
   "metadata": {
    "tags": []
   },
   "outputs": [
    {
     "name": "stderr",
     "output_type": "stream",
     "text": [
      "WARNING: An illegal reflective access operation has occurred\n",
      "WARNING: Illegal reflective access by org.apache.spark.unsafe.Platform (file:/usr/local/spark-3.1.2-bin-hadoop3.2/jars/spark-unsafe_2.12-3.1.2.jar) to constructor java.nio.DirectByteBuffer(long,int)\n",
      "WARNING: Please consider reporting this to the maintainers of org.apache.spark.unsafe.Platform\n",
      "WARNING: Use --illegal-access=warn to enable warnings of further illegal reflective access operations\n",
      "WARNING: All illegal access operations will be denied in a future release\n"
     ]
    },
    {
     "name": "stdout",
     "output_type": "stream",
     "text": [
      ":: loading settings :: url = jar:file:/usr/local/spark-3.1.2-bin-hadoop3.2/jars/ivy-2.4.0.jar!/org/apache/ivy/core/settings/ivysettings.xml\n"
     ]
    },
    {
     "name": "stderr",
     "output_type": "stream",
     "text": [
      "Ivy Default Cache set to: /home/jovyan/.ivy2/cache\n",
      "The jars for the packages stored in: /home/jovyan/.ivy2/jars\n",
      "neo4j-contrib#neo4j-connector-apache-spark_2.12 added as a dependency\n",
      ":: resolving dependencies :: org.apache.spark#spark-submit-parent-977ee0d0-3b59-45e9-ab25-7a06a7481bd3;1.0\n",
      "\tconfs: [default]\n",
      "\tfound neo4j-contrib#neo4j-connector-apache-spark_2.12;4.0.1_for_spark_3 in spark-packages\n",
      "downloading https://repos.spark-packages.org/neo4j-contrib/neo4j-connector-apache-spark_2.12/4.0.1_for_spark_3/neo4j-connector-apache-spark_2.12-4.0.1_for_spark_3.jar ...\n",
      "\t[SUCCESSFUL ] neo4j-contrib#neo4j-connector-apache-spark_2.12;4.0.1_for_spark_3!neo4j-connector-apache-spark_2.12.jar (773ms)\n",
      ":: resolution report :: resolve 4433ms :: artifacts dl 778ms\n",
      "\t:: modules in use:\n",
      "\tneo4j-contrib#neo4j-connector-apache-spark_2.12;4.0.1_for_spark_3 from spark-packages in [default]\n",
      "\t---------------------------------------------------------------------\n",
      "\t|                  |            modules            ||   artifacts   |\n",
      "\t|       conf       | number| search|dwnlded|evicted|| number|dwnlded|\n",
      "\t---------------------------------------------------------------------\n",
      "\t|      default     |   1   |   1   |   1   |   0   ||   1   |   1   |\n",
      "\t---------------------------------------------------------------------\n",
      ":: retrieving :: org.apache.spark#spark-submit-parent-977ee0d0-3b59-45e9-ab25-7a06a7481bd3\n",
      "\tconfs: [default]\n",
      "\t1 artifacts copied, 0 already retrieved (5281kB/38ms)\n",
      "21/09/23 17:30:29 WARN NativeCodeLoader: Unable to load native-hadoop library for your platform... using builtin-java classes where applicable\n",
      "Using Spark's default log4j profile: org/apache/spark/log4j-defaults.properties\n",
      "Setting default log level to \"WARN\".\n",
      "To adjust logging level use sc.setLogLevel(newLevel). For SparkR, use setLogLevel(newLevel).\n"
     ]
    }
   ],
   "source": [
    "from kuwala.modules.common import get_spark_session\n",
    "\n",
    "sp = get_spark_session(memory_in_gb=16)"
   ]
  },
  {
   "cell_type": "markdown",
   "metadata": {
    "pycharm": {
     "name": "#%% md\n"
    }
   },
   "source": [
    "#### Load the file"
   ]
  },
  {
   "cell_type": "code",
   "execution_count": 6,
   "metadata": {
    "pycharm": {
     "name": "#%%\n"
    },
    "tags": []
   },
   "outputs": [
    {
     "name": "stderr",
     "output_type": "stream",
     "text": [
      "                                                                                \r"
     ]
    },
    {
     "name": "stdout",
     "output_type": "stream",
     "text": [
      "+---------------+----------------------+\n",
      "|       h3_index|sum(weekly_traversals)|\n",
      "+---------------+----------------------+\n",
      "|8839336761fffff|              217524.0|\n",
      "|8839336287fffff|               64503.0|\n",
      "|88393375b9fffff|               17305.0|\n",
      "|8839336281fffff|                2347.0|\n",
      "|8839336709fffff|              168946.0|\n",
      "|88393362b3fffff|             1520241.0|\n",
      "|88393362d1fffff|              168001.0|\n",
      "|883933629bfffff|              748052.0|\n",
      "|88393375b3fffff|              329015.0|\n",
      "|883933759bfffff|               33943.0|\n",
      "+---------------+----------------------+\n",
      "only showing top 10 rows\n",
      "\n"
     ]
    }
   ],
   "source": [
    "import json\n",
    "from geojson import Polygon\n",
    "from kuwala.modules.common import add_h3_index_column, polyfill_polygon\n",
    "\n",
    "df_file = sp.read.option('delimiter', delimiter).csv(file_path, header=True)\n",
    "df_file = add_h3_index_column(df=df_file, lat_column=lat_column, lng_column=lng_column, resolution=resolution)\n",
    "\n",
    "if polygon_coords:\n",
    "    polygon_coords_json = json.loads(polygon_coords)\n",
    "    polygon = Polygon(polygon_coords_json)\n",
    "    h3_index_in_polygon = list(polyfill_polygon(polygon=polygon, resolution=resolution))\n",
    "    df_file = df_file.filter(df_file.h3_index.isin(h3_index_in_polygon))\n",
    "\n",
    "aggregations = { x: 'sum' for x in value_columns}\n",
    "df_file = df_file.select('h3_index', *value_columns).groupBy('h3_index').agg(aggregations)\n",
    "\n",
    "df_file.show(n=10)"
   ]
  },
  {
   "cell_type": "markdown",
   "metadata": {
    "pycharm": {
     "name": "#%% md\n"
    }
   },
   "source": [
    "#### Get weekly popularity per hexagon"
   ]
  },
  {
   "cell_type": "code",
   "execution_count": 7,
   "metadata": {
    "collapsed": false,
    "jupyter": {
     "outputs_hidden": false
    },
    "pycharm": {
     "name": "#%%\n"
    }
   },
   "outputs": [
    {
     "name": "stderr",
     "output_type": "stream",
     "text": [
      "[Stage 7:>                                                          (0 + 1) / 1]\r"
     ]
    },
    {
     "name": "stdout",
     "output_type": "stream",
     "text": [
      "+---------------+-----------------+\n",
      "|       h3_index|weekly_popularity|\n",
      "+---------------+-----------------+\n",
      "|8839336019fffff|            13801|\n",
      "|8839336051fffff|            23673|\n",
      "|8839336053fffff|            55269|\n",
      "|8839336057fffff|            34827|\n",
      "|8839336059fffff|            11658|\n",
      "|883933605bfffff|            25050|\n",
      "|88393360d9fffff|           109533|\n",
      "|8839336213fffff|             6216|\n",
      "|8839336281fffff|             4833|\n",
      "|8839336283fffff|            36418|\n",
      "+---------------+-----------------+\n",
      "only showing top 10 rows\n",
      "\n"
     ]
    },
    {
     "name": "stderr",
     "output_type": "stream",
     "text": [
      "                                                                                \r"
     ]
    }
   ],
   "source": [
    "from kuwala.modules.popularity_controller import get_weekly_popularity_in_h3\n",
    "\n",
    "popularity = get_weekly_popularity_in_h3(sp=sp, resolution=resolution, polygon_coords=polygon_coords)\n",
    "\n",
    "popularity.show(n=10)"
   ]
  },
  {
   "cell_type": "markdown",
   "metadata": {
    "pycharm": {
     "name": "#%% md\n"
    }
   },
   "source": [
    "## 3. Join dataframes"
   ]
  },
  {
   "cell_type": "code",
   "execution_count": 8,
   "metadata": {
    "collapsed": false,
    "jupyter": {
     "outputs_hidden": false
    },
    "pycharm": {
     "name": "#%%\n"
    }
   },
   "outputs": [
    {
     "name": "stderr",
     "output_type": "stream",
     "text": [
      "[Stage 16:====================================>                   (13 + 4) / 20]\r"
     ]
    },
    {
     "name": "stdout",
     "output_type": "stream",
     "text": [
      "+---------------+----------------------+-----------------+\n",
      "|       h3_index|sum(weekly_traversals)|weekly_popularity|\n",
      "+---------------+----------------------+-----------------+\n",
      "|8839336761fffff|              217524.0|           120565|\n",
      "|8839336287fffff|               64503.0|             8484|\n",
      "|88393375b9fffff|               17305.0|            17450|\n",
      "|8839336281fffff|                2347.0|             4833|\n",
      "|8839336709fffff|              168946.0|             3820|\n",
      "|88393362b3fffff|             1520241.0|           637042|\n",
      "|88393362d1fffff|              168001.0|            47620|\n",
      "|883933629bfffff|              748052.0|           133033|\n",
      "|88393375b3fffff|              329015.0|            33861|\n",
      "|883933759bfffff|               33943.0|            12501|\n",
      "+---------------+----------------------+-----------------+\n",
      "only showing top 10 rows\n",
      "\n"
     ]
    },
    {
     "name": "stderr",
     "output_type": "stream",
     "text": [
      "                                                                                \r"
     ]
    }
   ],
   "source": [
    "popularity = popularity.withColumnRenamed('h3_index', 'join_h3_index')\n",
    "result = df_file \\\n",
    "    .join(popularity, df_file.h3_index == popularity.join_h3_index, 'left') \\\n",
    "    .drop('join_h3_index') \\\n",
    "    .fillna(0, subset=['weekly_popularity'])\n",
    "\n",
    "result.show(n=10)"
   ]
  },
  {
   "cell_type": "markdown",
   "metadata": {},
   "source": [
    "## 4. Visualize Results\n",
    "\n",
    "#### Pandas Profiling Report"
   ]
  },
  {
   "cell_type": "code",
   "execution_count": 10,
   "metadata": {
    "collapsed": false,
    "jupyter": {
     "outputs_hidden": false
    },
    "pycharm": {
     "name": "#%%\n"
    }
   },
   "outputs": [
    {
     "name": "stderr",
     "output_type": "stream",
     "text": [
      "                                                                                \r"
     ]
    },
    {
     "data": {
      "application/vnd.jupyter.widget-view+json": {
       "model_id": "f8de6aa38806433b8e8d9bf2309e9afe",
       "version_major": 2,
       "version_minor": 0
      },
      "text/plain": [
       "Summarize dataset:   0%|          | 0/16 [00:00<?, ?it/s]"
      ]
     },
     "metadata": {},
     "output_type": "display_data"
    },
    {
     "data": {
      "application/vnd.jupyter.widget-view+json": {
       "model_id": "38dddc16f8204f958442981cc0ea612a",
       "version_major": 2,
       "version_minor": 0
      },
      "text/plain": [
       "Generate report structure:   0%|          | 0/1 [00:00<?, ?it/s]"
      ]
     },
     "metadata": {},
     "output_type": "display_data"
    },
    {
     "data": {
      "application/vnd.jupyter.widget-view+json": {
       "model_id": "",
       "version_major": 2,
       "version_minor": 0
      },
      "text/plain": [
       "Render widgets:   0%|          | 0/1 [00:00<?, ?it/s]"
      ]
     },
     "metadata": {},
     "output_type": "display_data"
    },
    {
     "data": {
      "application/vnd.jupyter.widget-view+json": {
       "model_id": "7f904e32a062430ba4e09638e952c0ad",
       "version_major": 2,
       "version_minor": 0
      },
      "text/plain": [
       "VBox(children=(Tab(children=(Tab(children=(GridBox(children=(VBox(children=(GridspecLayout(children=(HTML(valu…"
      ]
     },
     "metadata": {},
     "output_type": "display_data"
    }
   ],
   "source": [
    "from pandas_profiling import ProfileReport\n",
    "\n",
    "result_pd = result.toPandas()\n",
    "profile = ProfileReport(result_pd, title=\"Pandas Profiling Report\", explorative=True)\n",
    "\n",
    "profile.to_widgets()"
   ]
  },
  {
   "cell_type": "markdown",
   "metadata": {},
   "source": [
    "#### Map"
   ]
  },
  {
   "cell_type": "code",
   "execution_count": 11,
   "metadata": {
    "collapsed": false,
    "jupyter": {
     "outputs_hidden": false
    },
    "pycharm": {
     "name": "#%%\n"
    }
   },
   "outputs": [
    {
     "data": {
      "text/plain": [
       "<Future pending>"
      ]
     },
     "execution_count": 11,
     "metadata": {},
     "output_type": "execute_result"
    }
   ],
   "source": [
    "from unfolded.map_sdk import UnfoldedMap\n",
    "from sidecar import Sidecar\n",
    "from uuid import uuid4\n",
    "\n",
    "unfolded_map = UnfoldedMap()\n",
    "sc = Sidecar(title=f'Popularity Correlation', anchor='split-right')\n",
    "\n",
    "with sc:\n",
    "    display(unfolded_map)\n",
    "\n",
    "dataset_id_combined=uuid4()\n",
    "\n",
    "unfolded_map.add_dataset({\n",
    "    'uuid': dataset_id_combined,\n",
    "    'label': f'Correlated values',\n",
    "    'data': result_pd\n",
    "})"
   ]
  },
  {
   "cell_type": "code",
   "execution_count": null,
   "metadata": {},
   "outputs": [],
   "source": []
  }
 ],
 "metadata": {
  "kernelspec": {
   "display_name": "Python 3 (ipykernel)",
   "language": "python",
   "name": "python3"
  },
  "language_info": {
   "codemirror_mode": {
    "name": "ipython",
    "version": 3
   },
   "file_extension": ".py",
   "mimetype": "text/x-python",
   "name": "python",
   "nbconvert_exporter": "python",
   "pygments_lexer": "ipython3",
   "version": "3.9.6"
  }
 },
 "nbformat": 4,
 "nbformat_minor": 4
}